{
 "cells": [
  {
   "cell_type": "code",
   "execution_count": 1,
   "metadata": {},
   "outputs": [],
   "source": [
    "import csv\n",
    "import numpy as np\n",
    "\n",
    "with open('C:/banana-detection/bananas_train/label.csv', 'r') as file:\n",
    "    data_train = [row for row in csv.DictReader(file)]\n",
    "\n",
    "with open('C:/banana-detection/bananas_val/label.csv', 'r') as file:\n",
    "    data_test = [row for row in csv.DictReader(file)]\n",
    "    \n",
    "x_train = np.array([\n",
    "    \"C:/banana-detection/bananas_train/images/\" + x.get('img_name') \n",
    "    for x in data_train\n",
    "])\n",
    "\n",
    "y_train = [\n",
    "    [int(x.get('xmin')), int(x.get('ymin')), int(x.get('xmax')), int(x.get('ymax'))]\n",
    "    for x in data_train\n",
    "]\n",
    "\n",
    "x_test = [\n",
    "    \"C:/banana-detection/bananas_val/images/\" + x.get('img_name') \n",
    "    for x in data_test\n",
    "]\n",
    "\n",
    "y_test =[\n",
    "    [int(x.get('xmin')), int(x.get('ymin')), int(x.get('xmax')), int(x.get('ymax'))]\n",
    "    for x in data_test\n",
    "]"
   ]
  },
  {
   "cell_type": "code",
   "execution_count": null,
   "metadata": {},
   "outputs": [],
   "source": [
    "from ultralytics import RTDETR\n",
    "\n",
    "# Load a COCO-pretrained RT-DETR-l model\n",
    "model = RTDETR(\"rtdetr-l.pt\")\n",
    "\n",
    "# Display model information (optional)\n",
    "model.info()"
   ]
  },
  {
   "cell_type": "code",
   "execution_count": 29,
   "metadata": {},
   "outputs": [
    {
     "name": "stdout",
     "output_type": "stream",
     "text": [
      "New https://pypi.org/project/ultralytics/8.3.18 available  Update with 'pip install -U ultralytics'\n",
      "Ultralytics 8.3.8  Python-3.11.5 torch-2.3.1+cu121 CUDA:0 (NVIDIA GeForce RTX 2060 SUPER, 8192MiB)\n",
      "\u001b[34m\u001b[1mengine\\trainer: \u001b[0mtask=detect, mode=train, model=rtdetr-l.pt, data=C:\\banana-detection\\dataset.yaml, epochs=10, time=None, patience=100, batch=16, imgsz=256, save=True, save_period=-1, cache=False, device=None, workers=8, project=None, name=train102, exist_ok=False, pretrained=True, optimizer=auto, verbose=True, seed=0, deterministic=True, single_cls=False, rect=False, cos_lr=False, close_mosaic=10, resume=False, amp=True, fraction=1.0, profile=False, freeze=None, multi_scale=False, overlap_mask=True, mask_ratio=4, dropout=0.0, val=True, split=val, save_json=False, save_hybrid=False, conf=None, iou=0.7, max_det=300, half=False, dnn=False, plots=True, source=None, vid_stride=1, stream_buffer=False, visualize=False, augment=False, agnostic_nms=False, classes=None, retina_masks=False, embed=None, show=False, save_frames=False, save_txt=False, save_conf=False, save_crop=False, show_labels=True, show_conf=True, show_boxes=True, line_width=None, format=torchscript, keras=False, optimize=False, int8=False, dynamic=False, simplify=True, opset=None, workspace=4, nms=False, lr0=0.01, lrf=0.01, momentum=0.937, weight_decay=0.0005, warmup_epochs=3.0, warmup_momentum=0.8, warmup_bias_lr=0.0, box=7.5, cls=0.5, dfl=1.5, pose=12.0, kobj=1.0, label_smoothing=0.0, nbs=64, hsv_h=0.015, hsv_s=0.7, hsv_v=0.4, degrees=0.0, translate=0.1, scale=0.5, shear=0.0, perspective=0.0, flipud=0.0, fliplr=0.5, bgr=0.0, mosaic=1.0, mixup=0.0, copy_paste=0.0, copy_paste_mode=flip, auto_augment=randaugment, erasing=0.4, crop_fraction=1.0, cfg=None, tracker=botsort.yaml, save_dir=runs\\detect\\train102\n",
      "WARNING  no model scale passed. Assuming scale='l'.\n",
      "\n",
      "                   from  n    params  module                                       arguments                     \n",
      "  0                  -1  1     25248  ultralytics.nn.modules.block.HGStem          [3, 32, 48]                   \n",
      "  1                  -1  6    155072  ultralytics.nn.modules.block.HGBlock         [48, 48, 128, 3, 6]           \n",
      "  2                  -1  1      1408  ultralytics.nn.modules.conv.DWConv           [128, 128, 3, 2, 1, False]    \n",
      "  3                  -1  6    839296  ultralytics.nn.modules.block.HGBlock         [128, 96, 512, 3, 6]          \n",
      "  4                  -1  1      5632  ultralytics.nn.modules.conv.DWConv           [512, 512, 3, 2, 1, False]    \n",
      "  5                  -1  6   1695360  ultralytics.nn.modules.block.HGBlock         [512, 192, 1024, 5, 6, True, False]\n",
      "  6                  -1  6   2055808  ultralytics.nn.modules.block.HGBlock         [1024, 192, 1024, 5, 6, True, True]\n",
      "  7                  -1  6   2055808  ultralytics.nn.modules.block.HGBlock         [1024, 192, 1024, 5, 6, True, True]\n",
      "  8                  -1  1     11264  ultralytics.nn.modules.conv.DWConv           [1024, 1024, 3, 2, 1, False]  \n",
      "  9                  -1  6   6708480  ultralytics.nn.modules.block.HGBlock         [1024, 384, 2048, 5, 6, True, False]\n",
      " 10                  -1  1    524800  ultralytics.nn.modules.conv.Conv             [2048, 256, 1, 1, None, 1, 1, False]\n",
      " 11                  -1  1    789760  ultralytics.nn.modules.transformer.AIFI      [256, 1024, 8]                \n",
      " 12                  -1  1     66048  ultralytics.nn.modules.conv.Conv             [256, 256, 1, 1]              \n",
      " 13                  -1  1         0  torch.nn.modules.upsampling.Upsample         [None, 2, 'nearest']          \n",
      " 14                   7  1    262656  ultralytics.nn.modules.conv.Conv             [1024, 256, 1, 1, None, 1, 1, False]\n",
      " 15            [-2, -1]  1         0  ultralytics.nn.modules.conv.Concat           [1]                           \n",
      " 16                  -1  3   2232320  ultralytics.nn.modules.block.RepC3           [512, 256, 3]                 \n",
      " 17                  -1  1     66048  ultralytics.nn.modules.conv.Conv             [256, 256, 1, 1]              \n",
      " 18                  -1  1         0  torch.nn.modules.upsampling.Upsample         [None, 2, 'nearest']          \n",
      " 19                   3  1    131584  ultralytics.nn.modules.conv.Conv             [512, 256, 1, 1, None, 1, 1, False]\n",
      " 20            [-2, -1]  1         0  ultralytics.nn.modules.conv.Concat           [1]                           \n",
      " 21                  -1  3   2232320  ultralytics.nn.modules.block.RepC3           [512, 256, 3]                 \n",
      " 22                  -1  1    590336  ultralytics.nn.modules.conv.Conv             [256, 256, 3, 2]              \n",
      " 23            [-1, 17]  1         0  ultralytics.nn.modules.conv.Concat           [1]                           \n",
      " 24                  -1  3   2232320  ultralytics.nn.modules.block.RepC3           [512, 256, 3]                 \n",
      " 25                  -1  1    590336  ultralytics.nn.modules.conv.Conv             [256, 256, 3, 2]              \n",
      " 26            [-1, 12]  1         0  ultralytics.nn.modules.conv.Concat           [1]                           \n",
      " 27                  -1  3   2232320  ultralytics.nn.modules.block.RepC3           [512, 256, 3]                 \n",
      " 28        [21, 24, 27]  1   7303907  ultralytics.nn.modules.head.RTDETRDecoder    [1, [256, 256, 256]]          \n",
      "rt-detr-l summary: 681 layers, 32,808,131 parameters, 32,808,131 gradients, 108.0 GFLOPs\n",
      "\n",
      "Transferred 322/941 items from pretrained weights\n",
      "\u001b[34m\u001b[1mTensorBoard: \u001b[0mStart with 'tensorboard --logdir runs\\detect\\train102', view at http://localhost:6006/\n",
      "\u001b[34m\u001b[1mAMP: \u001b[0mrunning Automatic Mixed Precision (AMP) checks with YOLO11n...\n",
      "\u001b[34m\u001b[1mAMP: \u001b[0mchecks passed \n"
     ]
    },
    {
     "name": "stderr",
     "output_type": "stream",
     "text": [
      "\u001b[34m\u001b[1mtrain: \u001b[0mScanning C:\\banana-detection\\bananas_train\\labels.cache... 1000 images, 0 backgrounds, 0 corrupt: 100%|██████████| 1000/1000 [00:00<?, ?it/s]\n",
      "\u001b[34m\u001b[1mval: \u001b[0mScanning C:\\banana-detection\\bananas_val\\labels.cache... 100 images, 0 backgrounds, 0 corrupt: 100%|██████████| 100/100 [00:00<?, ?it/s]\n"
     ]
    },
    {
     "name": "stdout",
     "output_type": "stream",
     "text": [
      "Plotting labels to runs\\detect\\train102\\labels.jpg... \n",
      "\u001b[34m\u001b[1moptimizer:\u001b[0m 'optimizer=auto' found, ignoring 'lr0=0.01' and 'momentum=0.937' and determining best 'optimizer', 'lr0' and 'momentum' automatically... \n",
      "\u001b[34m\u001b[1moptimizer:\u001b[0m AdamW(lr=0.002, momentum=0.9) with parameter groups 143 weight(decay=0.0), 206 weight(decay=0.0005), 226 bias(decay=0.0)\n",
      "\u001b[34m\u001b[1mTensorBoard: \u001b[0mmodel graph visualization added \n",
      "Image sizes 256 train, 256 val\n",
      "Using 8 dataloader workers\n",
      "Logging results to \u001b[1mruns\\detect\\train102\u001b[0m\n",
      "Starting training for 10 epochs...\n",
      "Closing dataloader mosaic\n",
      "\n",
      "      Epoch    GPU_mem  giou_loss   cls_loss    l1_loss  Instances       Size\n"
     ]
    },
    {
     "name": "stderr",
     "output_type": "stream",
     "text": [
      "  0%|          | 0/63 [00:00<?, ?it/s]c:\\Python311\\Lib\\site-packages\\torch\\autograd\\graph.py:744: UserWarning: grid_sampler_2d_backward_cuda does not have a deterministic implementation, but you set 'torch.use_deterministic_algorithms(True, warn_only=True)'. You can file an issue at https://github.com/pytorch/pytorch/issues to help us prioritize adding deterministic support for this operation. (Triggered internally at ..\\aten\\src\\ATen\\Context.cpp:87.)\n",
      "  return Variable._execution_engine.run_backward(  # Calls into the C++ engine to run the backward pass\n",
      "       1/10      5.39G     0.5239     0.6114     0.3414          8        256: 100%|██████████| 63/63 [00:25<00:00,  2.50it/s]\n",
      "                 Class     Images  Instances      Box(P          R      mAP50  mAP50-95): 100%|██████████| 4/4 [00:00<00:00,  6.09it/s]"
     ]
    },
    {
     "name": "stdout",
     "output_type": "stream",
     "text": [
      "                   all        100        100      0.882       0.98      0.955      0.827\n"
     ]
    },
    {
     "name": "stderr",
     "output_type": "stream",
     "text": [
      "\n"
     ]
    },
    {
     "name": "stdout",
     "output_type": "stream",
     "text": [
      "\n",
      "      Epoch    GPU_mem  giou_loss   cls_loss    l1_loss  Instances       Size\n"
     ]
    },
    {
     "name": "stderr",
     "output_type": "stream",
     "text": [
      "  0%|          | 0/63 [00:00<?, ?it/s]c:\\Python311\\Lib\\site-packages\\torch\\autograd\\graph.py:744: UserWarning: grid_sampler_2d_backward_cuda does not have a deterministic implementation, but you set 'torch.use_deterministic_algorithms(True, warn_only=True)'. You can file an issue at https://github.com/pytorch/pytorch/issues to help us prioritize adding deterministic support for this operation. (Triggered internally at ..\\aten\\src\\ATen\\Context.cpp:87.)\n",
      "  return Variable._execution_engine.run_backward(  # Calls into the C++ engine to run the backward pass\n",
      "       2/10      5.55G     0.2049     0.3567     0.1174          8        256: 100%|██████████| 63/63 [00:23<00:00,  2.72it/s]\n",
      "                 Class     Images  Instances      Box(P          R      mAP50  mAP50-95): 100%|██████████| 4/4 [00:00<00:00,  6.23it/s]"
     ]
    },
    {
     "name": "stdout",
     "output_type": "stream",
     "text": [
      "                   all        100        100      0.861          1      0.944      0.808\n"
     ]
    },
    {
     "name": "stderr",
     "output_type": "stream",
     "text": [
      "\n"
     ]
    },
    {
     "name": "stdout",
     "output_type": "stream",
     "text": [
      "\n",
      "      Epoch    GPU_mem  giou_loss   cls_loss    l1_loss  Instances       Size\n"
     ]
    },
    {
     "name": "stderr",
     "output_type": "stream",
     "text": [
      "  0%|          | 0/63 [00:00<?, ?it/s]c:\\Python311\\Lib\\site-packages\\torch\\autograd\\graph.py:744: UserWarning: grid_sampler_2d_backward_cuda does not have a deterministic implementation, but you set 'torch.use_deterministic_algorithms(True, warn_only=True)'. You can file an issue at https://github.com/pytorch/pytorch/issues to help us prioritize adding deterministic support for this operation. (Triggered internally at ..\\aten\\src\\ATen\\Context.cpp:87.)\n",
      "  return Variable._execution_engine.run_backward(  # Calls into the C++ engine to run the backward pass\n",
      "       3/10      5.55G     0.2061     0.4008     0.1169          8        256: 100%|██████████| 63/63 [00:22<00:00,  2.77it/s]\n",
      "                 Class     Images  Instances      Box(P          R      mAP50  mAP50-95): 100%|██████████| 4/4 [00:00<00:00,  6.20it/s]"
     ]
    },
    {
     "name": "stdout",
     "output_type": "stream",
     "text": [
      "                   all        100        100      0.805      0.989      0.871      0.743\n"
     ]
    },
    {
     "name": "stderr",
     "output_type": "stream",
     "text": [
      "\n"
     ]
    },
    {
     "name": "stdout",
     "output_type": "stream",
     "text": [
      "\n",
      "      Epoch    GPU_mem  giou_loss   cls_loss    l1_loss  Instances       Size\n"
     ]
    },
    {
     "name": "stderr",
     "output_type": "stream",
     "text": [
      "  0%|          | 0/63 [00:00<?, ?it/s]c:\\Python311\\Lib\\site-packages\\torch\\autograd\\graph.py:744: UserWarning: grid_sampler_2d_backward_cuda does not have a deterministic implementation, but you set 'torch.use_deterministic_algorithms(True, warn_only=True)'. You can file an issue at https://github.com/pytorch/pytorch/issues to help us prioritize adding deterministic support for this operation. (Triggered internally at ..\\aten\\src\\ATen\\Context.cpp:87.)\n",
      "  return Variable._execution_engine.run_backward(  # Calls into the C++ engine to run the backward pass\n",
      "       4/10      5.47G     0.2462     0.4594     0.1421          8        256: 100%|██████████| 63/63 [00:22<00:00,  2.76it/s]\n",
      "                 Class     Images  Instances      Box(P          R      mAP50  mAP50-95): 100%|██████████| 4/4 [00:00<00:00,  6.20it/s]"
     ]
    },
    {
     "name": "stdout",
     "output_type": "stream",
     "text": [
      "                   all        100        100      0.892       0.99       0.97      0.824\n"
     ]
    },
    {
     "name": "stderr",
     "output_type": "stream",
     "text": [
      "\n"
     ]
    },
    {
     "name": "stdout",
     "output_type": "stream",
     "text": [
      "\n",
      "      Epoch    GPU_mem  giou_loss   cls_loss    l1_loss  Instances       Size\n"
     ]
    },
    {
     "name": "stderr",
     "output_type": "stream",
     "text": [
      "  0%|          | 0/63 [00:00<?, ?it/s]c:\\Python311\\Lib\\site-packages\\torch\\autograd\\graph.py:744: UserWarning: grid_sampler_2d_backward_cuda does not have a deterministic implementation, but you set 'torch.use_deterministic_algorithms(True, warn_only=True)'. You can file an issue at https://github.com/pytorch/pytorch/issues to help us prioritize adding deterministic support for this operation. (Triggered internally at ..\\aten\\src\\ATen\\Context.cpp:87.)\n",
      "  return Variable._execution_engine.run_backward(  # Calls into the C++ engine to run the backward pass\n",
      "       5/10      5.55G     0.1929     0.3531     0.1051          8        256: 100%|██████████| 63/63 [00:23<00:00,  2.71it/s]\n",
      "                 Class     Images  Instances      Box(P          R      mAP50  mAP50-95): 100%|██████████| 4/4 [00:00<00:00,  5.94it/s]"
     ]
    },
    {
     "name": "stdout",
     "output_type": "stream",
     "text": [
      "                   all        100        100      0.978          1      0.986      0.911\n"
     ]
    },
    {
     "name": "stderr",
     "output_type": "stream",
     "text": [
      "\n"
     ]
    },
    {
     "name": "stdout",
     "output_type": "stream",
     "text": [
      "\n",
      "      Epoch    GPU_mem  giou_loss   cls_loss    l1_loss  Instances       Size\n"
     ]
    },
    {
     "name": "stderr",
     "output_type": "stream",
     "text": [
      "  0%|          | 0/63 [00:00<?, ?it/s]c:\\Python311\\Lib\\site-packages\\torch\\autograd\\graph.py:744: UserWarning: grid_sampler_2d_backward_cuda does not have a deterministic implementation, but you set 'torch.use_deterministic_algorithms(True, warn_only=True)'. You can file an issue at https://github.com/pytorch/pytorch/issues to help us prioritize adding deterministic support for this operation. (Triggered internally at ..\\aten\\src\\ATen\\Context.cpp:87.)\n",
      "  return Variable._execution_engine.run_backward(  # Calls into the C++ engine to run the backward pass\n",
      "       6/10       5.5G     0.1718     0.2914    0.09514          8        256: 100%|██████████| 63/63 [00:23<00:00,  2.70it/s]\n",
      "                 Class     Images  Instances      Box(P          R      mAP50  mAP50-95): 100%|██████████| 4/4 [00:00<00:00,  5.96it/s]"
     ]
    },
    {
     "name": "stdout",
     "output_type": "stream",
     "text": [
      "                   all        100        100      0.967          1      0.984      0.934\n"
     ]
    },
    {
     "name": "stderr",
     "output_type": "stream",
     "text": [
      "\n"
     ]
    },
    {
     "name": "stdout",
     "output_type": "stream",
     "text": [
      "\n",
      "      Epoch    GPU_mem  giou_loss   cls_loss    l1_loss  Instances       Size\n"
     ]
    },
    {
     "name": "stderr",
     "output_type": "stream",
     "text": [
      "  0%|          | 0/63 [00:00<?, ?it/s]c:\\Python311\\Lib\\site-packages\\torch\\autograd\\graph.py:744: UserWarning: grid_sampler_2d_backward_cuda does not have a deterministic implementation, but you set 'torch.use_deterministic_algorithms(True, warn_only=True)'. You can file an issue at https://github.com/pytorch/pytorch/issues to help us prioritize adding deterministic support for this operation. (Triggered internally at ..\\aten\\src\\ATen\\Context.cpp:87.)\n",
      "  return Variable._execution_engine.run_backward(  # Calls into the C++ engine to run the backward pass\n",
      "       7/10      5.55G      0.145      0.254    0.07945          8        256: 100%|██████████| 63/63 [00:23<00:00,  2.69it/s]\n",
      "                 Class     Images  Instances      Box(P          R      mAP50  mAP50-95): 100%|██████████| 4/4 [00:00<00:00,  6.11it/s]"
     ]
    },
    {
     "name": "stdout",
     "output_type": "stream",
     "text": [
      "                   all        100        100      0.999          1      0.995      0.942\n"
     ]
    },
    {
     "name": "stderr",
     "output_type": "stream",
     "text": [
      "\n"
     ]
    },
    {
     "name": "stdout",
     "output_type": "stream",
     "text": [
      "\n",
      "      Epoch    GPU_mem  giou_loss   cls_loss    l1_loss  Instances       Size\n"
     ]
    },
    {
     "name": "stderr",
     "output_type": "stream",
     "text": [
      "  0%|          | 0/63 [00:00<?, ?it/s]c:\\Python311\\Lib\\site-packages\\torch\\autograd\\graph.py:744: UserWarning: grid_sampler_2d_backward_cuda does not have a deterministic implementation, but you set 'torch.use_deterministic_algorithms(True, warn_only=True)'. You can file an issue at https://github.com/pytorch/pytorch/issues to help us prioritize adding deterministic support for this operation. (Triggered internally at ..\\aten\\src\\ATen\\Context.cpp:87.)\n",
      "  return Variable._execution_engine.run_backward(  # Calls into the C++ engine to run the backward pass\n",
      "       8/10      5.47G     0.1339     0.2454     0.0739          8        256: 100%|██████████| 63/63 [00:22<00:00,  2.77it/s]\n",
      "                 Class     Images  Instances      Box(P          R      mAP50  mAP50-95): 100%|██████████| 4/4 [00:00<00:00,  6.12it/s]"
     ]
    },
    {
     "name": "stdout",
     "output_type": "stream",
     "text": [
      "                   all        100        100      0.999          1      0.995      0.948\n"
     ]
    },
    {
     "name": "stderr",
     "output_type": "stream",
     "text": [
      "\n"
     ]
    },
    {
     "name": "stdout",
     "output_type": "stream",
     "text": [
      "\n",
      "      Epoch    GPU_mem  giou_loss   cls_loss    l1_loss  Instances       Size\n"
     ]
    },
    {
     "name": "stderr",
     "output_type": "stream",
     "text": [
      "  0%|          | 0/63 [00:00<?, ?it/s]c:\\Python311\\Lib\\site-packages\\torch\\autograd\\graph.py:744: UserWarning: grid_sampler_2d_backward_cuda does not have a deterministic implementation, but you set 'torch.use_deterministic_algorithms(True, warn_only=True)'. You can file an issue at https://github.com/pytorch/pytorch/issues to help us prioritize adding deterministic support for this operation. (Triggered internally at ..\\aten\\src\\ATen\\Context.cpp:87.)\n",
      "  return Variable._execution_engine.run_backward(  # Calls into the C++ engine to run the backward pass\n",
      "       9/10      5.55G     0.1251      0.213    0.06733          8        256: 100%|██████████| 63/63 [00:22<00:00,  2.75it/s]\n",
      "                 Class     Images  Instances      Box(P          R      mAP50  mAP50-95): 100%|██████████| 4/4 [00:00<00:00,  6.14it/s]"
     ]
    },
    {
     "name": "stdout",
     "output_type": "stream",
     "text": [
      "                   all        100        100      0.999          1      0.995       0.98\n"
     ]
    },
    {
     "name": "stderr",
     "output_type": "stream",
     "text": [
      "\n"
     ]
    },
    {
     "name": "stdout",
     "output_type": "stream",
     "text": [
      "\n",
      "      Epoch    GPU_mem  giou_loss   cls_loss    l1_loss  Instances       Size\n"
     ]
    },
    {
     "name": "stderr",
     "output_type": "stream",
     "text": [
      "  0%|          | 0/63 [00:00<?, ?it/s]c:\\Python311\\Lib\\site-packages\\torch\\autograd\\graph.py:744: UserWarning: grid_sampler_2d_backward_cuda does not have a deterministic implementation, but you set 'torch.use_deterministic_algorithms(True, warn_only=True)'. You can file an issue at https://github.com/pytorch/pytorch/issues to help us prioritize adding deterministic support for this operation. (Triggered internally at ..\\aten\\src\\ATen\\Context.cpp:87.)\n",
      "  return Variable._execution_engine.run_backward(  # Calls into the C++ engine to run the backward pass\n",
      "      10/10       5.5G     0.1136     0.2124    0.06366          8        256: 100%|██████████| 63/63 [00:22<00:00,  2.75it/s]\n",
      "                 Class     Images  Instances      Box(P          R      mAP50  mAP50-95): 100%|██████████| 4/4 [00:00<00:00,  6.16it/s]"
     ]
    },
    {
     "name": "stdout",
     "output_type": "stream",
     "text": [
      "                   all        100        100      0.999          1      0.995      0.976\n"
     ]
    },
    {
     "name": "stderr",
     "output_type": "stream",
     "text": [
      "\n"
     ]
    },
    {
     "name": "stdout",
     "output_type": "stream",
     "text": [
      "\n",
      "10 epochs completed in 0.077 hours.\n",
      "Optimizer stripped from runs\\detect\\train102\\weights\\last.pt, 66.1MB\n",
      "Optimizer stripped from runs\\detect\\train102\\weights\\best.pt, 66.1MB\n",
      "\n",
      "Validating runs\\detect\\train102\\weights\\best.pt...\n",
      "Ultralytics 8.3.8  Python-3.11.5 torch-2.3.1+cu121 CUDA:0 (NVIDIA GeForce RTX 2060 SUPER, 8192MiB)\n",
      "rt-detr-l summary: 502 layers, 31,985,795 parameters, 0 gradients, 103.4 GFLOPs\n"
     ]
    },
    {
     "name": "stderr",
     "output_type": "stream",
     "text": [
      "                 Class     Images  Instances      Box(P          R      mAP50  mAP50-95): 100%|██████████| 4/4 [00:00<00:00,  4.62it/s]\n"
     ]
    },
    {
     "name": "stdout",
     "output_type": "stream",
     "text": [
      "                   all        100        100      0.999          1      0.995      0.978\n",
      "Speed: 0.1ms preprocess, 4.9ms inference, 0.0ms loss, 0.3ms postprocess per image\n",
      "Results saved to \u001b[1mruns\\detect\\train102\u001b[0m\n"
     ]
    }
   ],
   "source": [
    "# Train the model on the COCO8 example dataset for 100 epochs\n",
    "results = model.train(data=\"C:\\\\banana-detection\\\\dataset.yaml\", epochs=10, imgsz=256)"
   ]
  },
  {
   "cell_type": "code",
   "execution_count": 30,
   "metadata": {},
   "outputs": [
    {
     "name": "stdout",
     "output_type": "stream",
     "text": [
      "\n",
      "0: 256x256 1 banana, 8.5ms\n",
      "1: 256x256 1 banana, 8.5ms\n",
      "2: 256x256 1 banana, 8.5ms\n",
      "3: 256x256 1 banana, 8.5ms\n",
      "4: 256x256 1 banana, 8.5ms\n",
      "5: 256x256 1 banana, 8.5ms\n",
      "6: 256x256 1 banana, 8.5ms\n",
      "7: 256x256 1 banana, 8.5ms\n",
      "8: 256x256 1 banana, 8.5ms\n",
      "9: 256x256 1 banana, 8.5ms\n",
      "10: 256x256 1 banana, 8.5ms\n",
      "11: 256x256 1 banana, 8.5ms\n",
      "12: 256x256 1 banana, 8.5ms\n",
      "13: 256x256 1 banana, 8.5ms\n",
      "14: 256x256 1 banana, 8.5ms\n",
      "15: 256x256 1 banana, 8.5ms\n",
      "16: 256x256 1 banana, 8.5ms\n",
      "17: 256x256 1 banana, 8.5ms\n",
      "18: 256x256 1 banana, 8.5ms\n",
      "19: 256x256 1 banana, 8.5ms\n",
      "20: 256x256 1 banana, 8.5ms\n",
      "21: 256x256 1 banana, 8.5ms\n",
      "22: 256x256 1 banana, 8.5ms\n",
      "23: 256x256 1 banana, 8.5ms\n",
      "24: 256x256 1 banana, 8.5ms\n",
      "25: 256x256 1 banana, 8.5ms\n",
      "26: 256x256 1 banana, 8.5ms\n",
      "27: 256x256 1 banana, 8.5ms\n",
      "28: 256x256 1 banana, 8.5ms\n",
      "29: 256x256 1 banana, 8.5ms\n",
      "30: 256x256 1 banana, 8.5ms\n",
      "31: 256x256 1 banana, 8.5ms\n",
      "32: 256x256 1 banana, 8.5ms\n",
      "33: 256x256 1 banana, 8.5ms\n",
      "34: 256x256 1 banana, 8.5ms\n",
      "35: 256x256 1 banana, 8.5ms\n",
      "36: 256x256 1 banana, 8.5ms\n",
      "37: 256x256 1 banana, 8.5ms\n",
      "38: 256x256 1 banana, 8.5ms\n",
      "39: 256x256 1 banana, 8.5ms\n",
      "40: 256x256 1 banana, 8.5ms\n",
      "41: 256x256 1 banana, 8.5ms\n",
      "42: 256x256 1 banana, 8.5ms\n",
      "43: 256x256 1 banana, 8.5ms\n",
      "44: 256x256 1 banana, 8.5ms\n",
      "45: 256x256 1 banana, 8.5ms\n",
      "46: 256x256 1 banana, 8.5ms\n",
      "47: 256x256 1 banana, 8.5ms\n",
      "48: 256x256 1 banana, 8.5ms\n",
      "49: 256x256 1 banana, 8.5ms\n",
      "50: 256x256 1 banana, 8.5ms\n",
      "51: 256x256 1 banana, 8.5ms\n",
      "52: 256x256 1 banana, 8.5ms\n",
      "53: 256x256 1 banana, 8.5ms\n",
      "54: 256x256 1 banana, 8.5ms\n",
      "55: 256x256 1 banana, 8.5ms\n",
      "56: 256x256 1 banana, 8.5ms\n",
      "57: 256x256 1 banana, 8.5ms\n",
      "58: 256x256 1 banana, 8.5ms\n",
      "59: 256x256 1 banana, 8.5ms\n",
      "60: 256x256 1 banana, 8.5ms\n",
      "61: 256x256 1 banana, 8.5ms\n",
      "62: 256x256 1 banana, 8.5ms\n",
      "63: 256x256 1 banana, 8.5ms\n",
      "64: 256x256 1 banana, 8.5ms\n",
      "65: 256x256 1 banana, 8.5ms\n",
      "66: 256x256 1 banana, 8.5ms\n",
      "67: 256x256 1 banana, 8.5ms\n",
      "68: 256x256 1 banana, 8.5ms\n",
      "69: 256x256 1 banana, 8.5ms\n",
      "70: 256x256 1 banana, 8.5ms\n",
      "71: 256x256 1 banana, 8.5ms\n",
      "72: 256x256 1 banana, 8.5ms\n",
      "73: 256x256 1 banana, 8.5ms\n",
      "74: 256x256 1 banana, 8.5ms\n",
      "75: 256x256 1 banana, 8.5ms\n",
      "76: 256x256 1 banana, 8.5ms\n",
      "77: 256x256 1 banana, 8.5ms\n",
      "78: 256x256 1 banana, 8.5ms\n",
      "79: 256x256 1 banana, 8.5ms\n",
      "80: 256x256 1 banana, 8.5ms\n",
      "81: 256x256 1 banana, 8.5ms\n",
      "82: 256x256 1 banana, 8.5ms\n",
      "83: 256x256 1 banana, 8.5ms\n",
      "84: 256x256 1 banana, 8.5ms\n",
      "85: 256x256 1 banana, 8.5ms\n",
      "86: 256x256 1 banana, 8.5ms\n",
      "87: 256x256 1 banana, 8.5ms\n",
      "88: 256x256 1 banana, 8.5ms\n",
      "89: 256x256 1 banana, 8.5ms\n",
      "90: 256x256 1 banana, 8.5ms\n",
      "91: 256x256 1 banana, 8.5ms\n",
      "92: 256x256 1 banana, 8.5ms\n",
      "93: 256x256 1 banana, 8.5ms\n",
      "94: 256x256 1 banana, 8.5ms\n",
      "95: 256x256 1 banana, 8.5ms\n",
      "96: 256x256 1 banana, 8.5ms\n",
      "97: 256x256 1 banana, 8.5ms\n",
      "98: 256x256 1 banana, 8.5ms\n",
      "99: 256x256 1 banana, 8.5ms\n",
      "Speed: 1.1ms preprocess, 8.5ms inference, 1.0ms postprocess per image at shape (1, 3, 256, 256)\n",
      "Mean Absolute Error (MAE) for bounding boxes: 0.38135293\n"
     ]
    }
   ],
   "source": [
    "from sklearn.metrics import mean_absolute_error\n",
    "\n",
    "rt_detr_results = model.predict(x_test)\n",
    "\n",
    "# Extract the bounding boxes from the predictions\n",
    "y_pred = [result.boxes.xyxy.cpu().numpy() for result in rt_detr_results]\n",
    "\n",
    "y_pred = np.array(y_pred, dtype=np.float32)\n",
    "y_test = np.array(y_test, dtype=np.float32)\n",
    "\n",
    "# Flatten the arrays to compare all coordinates (x_min, y_min, x_max, y_max) across all boxes\n",
    "mae = mean_absolute_error(y_test.flatten(), y_pred.flatten())\n",
    "\n",
    "print(\"Mean Absolute Error (MAE) for bounding boxes:\", mae)"
   ]
  },
  {
   "cell_type": "code",
   "execution_count": 31,
   "metadata": {},
   "outputs": [
    {
     "name": "stdout",
     "output_type": "stream",
     "text": [
      "IoU médio: 0.9694663\n",
      "IoU mínimo: 0.9261506\n"
     ]
    }
   ],
   "source": [
    "import numpy as np\n",
    "\n",
    "def calculate_iou(box1, box2):\n",
    "    \"\"\"\n",
    "    Calcula a Interseção sobre a União (IoU) entre duas caixas delimitadoras.\n",
    "    Formato da caixa: [x_min, y_min, x_max, y_max]\n",
    "    \"\"\"\n",
    "    x_min1, y_min1, x_max1, y_max1 = box1\n",
    "    x_min2, y_min2, x_max2, y_max2 = box2\n",
    "\n",
    "    # Calcular as coordenadas da interseção\n",
    "    x_min_inter = max(x_min1, x_min2)\n",
    "    y_min_inter = max(y_min1, y_min2)\n",
    "    x_max_inter = min(x_max1, x_max2)\n",
    "    y_max_inter = min(y_max1, y_max2)\n",
    "\n",
    "    # Área da interseção\n",
    "    inter_area = max(0, x_max_inter - x_min_inter) * max(0, y_max_inter - y_min_inter)\n",
    "\n",
    "    # Área das caixas\n",
    "    box1_area = (x_max1 - x_min1) * (y_max1 - y_min1)\n",
    "    box2_area = (x_max2 - x_min2) * (y_max2 - y_min2)\n",
    "\n",
    "    # Área da união\n",
    "    union_area = box1_area + box2_area - inter_area\n",
    "\n",
    "    # IoU\n",
    "    iou = inter_area / union_area if union_area != 0 else 0\n",
    "\n",
    "    return iou\n",
    "\n",
    "ious = []  # Armazena os IoUs\n",
    "\n",
    "# Loop pelas previsões e pelas caixas de verdade\n",
    "for pred_boxes, gt_boxes in zip(y_pred, y_test):\n",
    "    for pred_box in pred_boxes:\n",
    "        # Calcula o IoU apenas para a primeira caixa predita contra a caixa correspondente em y_test\n",
    "        iou = calculate_iou(pred_box, gt_boxes)\n",
    "        ious.append(iou)\n",
    "\n",
    "# Calcular IoU médio e IoU mínimo\n",
    "if ious:\n",
    "    mean_iou = np.mean(ious)\n",
    "    min_iou = np.min(ious)\n",
    "\n",
    "    print(\"IoU médio:\", mean_iou)\n",
    "    print(\"IoU mínimo:\", min_iou)\n",
    "else:\n",
    "    print(\"Nenhum IoU válido foi calculado.\")\n"
   ]
  }
 ],
 "metadata": {
  "kernelspec": {
   "display_name": "Python 3",
   "language": "python",
   "name": "python3"
  },
  "language_info": {
   "codemirror_mode": {
    "name": "ipython",
    "version": 3
   },
   "file_extension": ".py",
   "mimetype": "text/x-python",
   "name": "python",
   "nbconvert_exporter": "python",
   "pygments_lexer": "ipython3",
   "version": "3.11.5"
  }
 },
 "nbformat": 4,
 "nbformat_minor": 2
}
